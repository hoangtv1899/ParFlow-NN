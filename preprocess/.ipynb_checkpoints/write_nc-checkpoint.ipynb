{
 "cells": [
  {
   "cell_type": "code",
   "execution_count": 1,
   "metadata": {},
   "outputs": [],
   "source": [
    "from parsePF import *\n",
    "import time\n",
    "import matplotlib.pyplot as plt"
   ]
  },
  {
   "cell_type": "code",
   "execution_count": 2,
   "metadata": {},
   "outputs": [],
   "source": [
    "#get initial information\n",
    "in_dir = '../washita/tcl_scripts/Outputs1'\n",
    "in_file = '../washita/tcl_scripts/LW_Test.tcl'\n",
    "nx,ny,nz,dx,dy,dz,dz_scale,time_arrays,lat0,lon0,lev0,var_outs = init_arrays(in_dir, in_file)\n",
    "precip_arrs = var_outs['precip']\n",
    "init_press = var_outs['prev_press']\n",
    "del var_outs['precip']\n",
    "#del var_outs['prev_press']"
   ]
  },
  {
   "cell_type": "code",
   "execution_count": 3,
   "metadata": {},
   "outputs": [
    {
     "data": {
      "text/plain": [
       "<matplotlib.colorbar.Colorbar at 0x7f5db9f421f0>"
      ]
     },
     "execution_count": 3,
     "metadata": {},
     "output_type": "execute_result"
    },
    {
     "data": {
      "image/png": "[encoded data removed]",
      "text/plain": [
       "<Figure size 432x288 with 2 Axes>"
      ]
     },
     "metadata": {
      "needs_background": "light"
     },
     "output_type": "display_data"
    }
   ],
   "source": [
    "plt.imshow(var_outs['poros'][-2,:,:])\n",
    "plt.colorbar()"
   ]
  },
  {
   "cell_type": "code",
   "execution_count": 4,
   "metadata": {},
   "outputs": [
    {
     "data": {
      "text/plain": [
       "[<matplotlib.lines.Line2D at 0x7f5db9e46760>]"
      ]
     },
     "execution_count": 4,
     "metadata": {},
     "output_type": "execute_result"
    },
    {
     "data": {
      "image/png": "[encoded data removed]",
      "text/plain": [
       "<Figure size 432x288 with 1 Axes>"
      ]
     },
     "metadata": {
      "needs_background": "light"
     },
     "output_type": "display_data"
    }
   ],
   "source": [
    "new_precip_arr = np.array([]).reshape(0,ny,nx)\n",
    "for p_arr in precip_arrs:\n",
    "    new_precip_arr = np.vstack([new_precip_arr,p_arr[-1,:,:][np.newaxis,...]])\n",
    "plt.plot(np.mean(new_precip_arr,axis=(1,2)))"
   ]
  },
  {
   "cell_type": "code",
   "execution_count": 5,
   "metadata": {},
   "outputs": [
    {
     "data": {
      "text/plain": [
       "(50, 41, 41)"
      ]
     },
     "execution_count": 5,
     "metadata": {},
     "output_type": "execute_result"
    }
   ],
   "source": [
    "var_outs['perm'].shape"
   ]
  },
  {
   "cell_type": "code",
   "execution_count": 7,
   "metadata": {},
   "outputs": [],
   "source": [
    "#write precip nc file\n",
    "out_nc = '../nc_file/LW_precip.nc'\n",
    "write_nc(out_nc,nx,ny,1,lat0,lon0,np.array([0]),\n",
    "         time_arrays,{'precip':new_precip_arr.reshape(-1,1,ny,nx)},\n",
    "        islev=True)"
   ]
  },
  {
   "cell_type": "code",
   "execution_count": 8,
   "metadata": {},
   "outputs": [],
   "source": [
    "#write static nc file\n",
    "out_nc = '../nc_file/LW_static.nc'\n",
    "write_nc(out_nc,nx,ny,nz,lat0,lon0,lev0,[datetime(1982, 10, 1, 6, 0)],var_outs,islev=True)"
   ]
  },
  {
   "cell_type": "code",
   "execution_count": 9,
   "metadata": {},
   "outputs": [
    {
     "name": "stdout",
     "output_type": "stream",
     "text": [
      "load target files 5.1219871044158936\n"
     ]
    }
   ],
   "source": [
    "t1 = time.time()\n",
    "target_arrs = init_arrays_with_press(in_dir, in_file)\n",
    "t2 = time.time()\n",
    "print('load target files '+str(t2-t1))"
   ]
  },
  {
   "cell_type": "code",
   "execution_count": 10,
   "metadata": {},
   "outputs": [],
   "source": [
    "#write press nc file\n",
    "out_nc = '../nc_file/LW_press.nc'\n",
    "write_nc(out_nc,nx,ny,nz,lat0,lon0,lev0,time_arrays,{'press':target_arrs['press']},islev=True)"
   ]
  },
  {
   "cell_type": "code",
   "execution_count": 11,
   "metadata": {},
   "outputs": [],
   "source": [
    "#write satur nc file\n",
    "out_nc = '../nc_file/LW_satur.nc'\n",
    "write_nc(out_nc,nx,ny,nz,lat0,lon0,lev0,time_arrays,{'satur':target_arrs['satur']},islev=True)"
   ]
  },
  {
   "cell_type": "code",
   "execution_count": 12,
   "metadata": {},
   "outputs": [],
   "source": [
    "#write previous press nc file. Only for trainning\n",
    "out_nc = '../nc_file/LW_prev_press.nc'\n",
    "write_nc(out_nc,nx,ny,nz,lat0,lon0,lev0,[x-timedelta(hours=1) for x in time_arrays],\n",
    "        {'prev_press':[init_press]+target_arrs['press'][:-1]},islev=True)"
   ]
  },
  {
   "cell_type": "code",
   "execution_count": null,
   "metadata": {},
   "outputs": [],
   "source": []
  }
 ],
 "metadata": {
  "kernelspec": {
   "display_name": "Python 3",
   "language": "python",
   "name": "python3"
  },
  "language_info": {
   "codemirror_mode": {
    "name": "ipython",
    "version": 3
   },
   "file_extension": ".py",
   "mimetype": "text/x-python",
   "name": "python",
   "nbconvert_exporter": "python",
   "pygments_lexer": "ipython3",
   "version": "3.8.2"
  }
 },
 "nbformat": 4,
 "nbformat_minor": 4
}
